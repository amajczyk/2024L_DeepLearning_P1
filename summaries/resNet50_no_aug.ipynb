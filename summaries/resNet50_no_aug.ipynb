{
 "cells": [
  {
   "cell_type": "code",
   "execution_count": 2,
   "metadata": {},
   "outputs": [],
   "source": [
    "import numpy as np\n",
    "import pandas as pd\n",
    "import matplotlib.pyplot as plt\n",
    "import seaborn as sns\n",
    "\n",
    "%run -i \"../src/utils.py\""
   ]
  },
  {
   "cell_type": "code",
   "execution_count": 5,
   "metadata": {},
   "outputs": [
    {
     "data": {
      "text/plain": [
       "['ResNet50_no_aug',\n",
       " 'ResNet50_aug_flip0.5',\n",
       " 'ResNet50_aug_gauss_noise0.5',\n",
       " 'ResNet50_aug_flip0.5_gauss_noise0.5']"
      ]
     },
     "execution_count": 5,
     "metadata": {},
     "output_type": "execute_result"
    }
   ],
   "source": [
    "prefix = 'ResNet50'\n",
    "names = [\n",
    "    'no_aug',\n",
    "    'aug_flip0.5',\n",
    "    'aug_gauss_noise0.5',\n",
    "    'aug_flip0.5_gauss_noise0.5',\n",
    "]\n",
    "\n",
    "names = [prefix + '_' + name for name in names]\n",
    "names\n"
   ]
  },
  {
   "cell_type": "code",
   "execution_count": 9,
   "metadata": {},
   "outputs": [
    {
     "data": {
      "text/html": [
       "<div>\n",
       "<style scoped>\n",
       "    .dataframe tbody tr th:only-of-type {\n",
       "        vertical-align: middle;\n",
       "    }\n",
       "\n",
       "    .dataframe tbody tr th {\n",
       "        vertical-align: top;\n",
       "    }\n",
       "\n",
       "    .dataframe thead th {\n",
       "        text-align: right;\n",
       "    }\n",
       "</style>\n",
       "<table border=\"1\" class=\"dataframe\">\n",
       "  <thead>\n",
       "    <tr style=\"text-align: right;\">\n",
       "      <th></th>\n",
       "      <th>augmentation</th>\n",
       "      <th>average_acc</th>\n",
       "      <th>std_acc</th>\n",
       "      <th>min_acc</th>\n",
       "      <th>max_acc</th>\n",
       "    </tr>\n",
       "  </thead>\n",
       "  <tbody>\n",
       "    <tr>\n",
       "      <th>1</th>\n",
       "      <td>aug_flip0.5</td>\n",
       "      <td>0.667</td>\n",
       "      <td>0.005</td>\n",
       "      <td>0.658</td>\n",
       "      <td>0.671</td>\n",
       "    </tr>\n",
       "    <tr>\n",
       "      <th>3</th>\n",
       "      <td>aug_flip0.5_gauss_noise0.5</td>\n",
       "      <td>0.657</td>\n",
       "      <td>0.012</td>\n",
       "      <td>0.635</td>\n",
       "      <td>0.669</td>\n",
       "    </tr>\n",
       "    <tr>\n",
       "      <th>2</th>\n",
       "      <td>aug_gauss_noise0.5</td>\n",
       "      <td>0.651</td>\n",
       "      <td>0.018</td>\n",
       "      <td>0.622</td>\n",
       "      <td>0.671</td>\n",
       "    </tr>\n",
       "    <tr>\n",
       "      <th>0</th>\n",
       "      <td>None</td>\n",
       "      <td>0.636</td>\n",
       "      <td>0.010</td>\n",
       "      <td>0.621</td>\n",
       "      <td>0.645</td>\n",
       "    </tr>\n",
       "  </tbody>\n",
       "</table>\n",
       "</div>"
      ],
      "text/plain": [
       "                 augmentation  average_acc  std_acc  min_acc  max_acc\n",
       "1                 aug_flip0.5        0.667    0.005    0.658    0.671\n",
       "3  aug_flip0.5_gauss_noise0.5        0.657    0.012    0.635    0.669\n",
       "2          aug_gauss_noise0.5        0.651    0.018    0.622    0.671\n",
       "0                        None        0.636    0.010    0.621    0.645"
      ]
     },
     "execution_count": 9,
     "metadata": {},
     "output_type": "execute_result"
    }
   ],
   "source": [
    "df = pd.DataFrame()\n",
    "for name in names:\n",
    "    df_ = pd.DataFrame()\n",
    "    model_info = get_model_info(name)\n",
    "    average_acc = np.mean(model_info['acc'])\n",
    "    std_acc = np.std(model_info['acc'])\n",
    "    min_acc = np.min(model_info['acc'])\n",
    "    max_acc = np.max(model_info['acc'])\n",
    "    df_['augmentation'] = [name]\n",
    "    df_['average_acc'] = [average_acc]\n",
    "    df_['std_acc'] = [std_acc]\n",
    "    df_['min_acc'] = [min_acc]\n",
    "    df_['max_acc'] = [max_acc]\n",
    "    df = pd.concat([df, df_])\n",
    "df.reset_index(drop=True, inplace=True)\n",
    "df.sort_values(by='average_acc', ascending=False, inplace=True)\n",
    "df['augmentation'] = df['augmentation'].str[9:]\n",
    "df['augmentation'] = df['augmentation'].str.replace('no_aug', 'None')\n",
    "df.round(3)"
   ]
  }
 ],
 "metadata": {
  "kernelspec": {
   "display_name": "py310",
   "language": "python",
   "name": "python3"
  },
  "language_info": {
   "codemirror_mode": {
    "name": "ipython",
    "version": 3
   },
   "file_extension": ".py",
   "mimetype": "text/x-python",
   "name": "python",
   "nbconvert_exporter": "python",
   "pygments_lexer": "ipython3",
   "version": "3.10.14"
  }
 },
 "nbformat": 4,
 "nbformat_minor": 2
}
