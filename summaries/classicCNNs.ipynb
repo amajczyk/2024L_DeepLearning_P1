{
 "cells": [
  {
   "cell_type": "code",
   "execution_count": 5,
   "metadata": {},
   "outputs": [],
   "source": [
    "import numpy as np\n",
    "import pandas as pd\n",
    "import matplotlib.pyplot as plt\n",
    "import seaborn as sns\n",
    "\n",
    "%run -i \"../src/utils.py\""
   ]
  },
  {
   "cell_type": "code",
   "execution_count": 12,
   "metadata": {},
   "outputs": [
    {
     "data": {
      "text/plain": [
       "['ClassicCNN_kernel_sizes_[3]_num_filters_[32]_fc_sizes_[128]_no_aug',\n",
       " 'ClassicCNN_kernel_sizes_[3, 3]_num_filters_[32, 64]_fc_sizes_[128, 64]_no_aug',\n",
       " 'ClassicCNN_kernel_sizes_[3, 3, 3]_num_filters_[32, 64, 64]_fc_sizes_[128, 64, 64]_no_aug',\n",
       " 'ClassicCNN_kernel_sizes_[5]_num_filters_[32]_fc_sizes_[128]_no_aug',\n",
       " 'ClassicCNN_kernel_sizes_[5, 5]_num_filters_[32, 64]_fc_sizes_[128, 64]_no_aug']"
      ]
     },
     "execution_count": 12,
     "metadata": {},
     "output_type": "execute_result"
    }
   ],
   "source": [
    "prefix = 'ClassicCNN'\n",
    "suffix = 'no_aug'\n",
    "names = [\n",
    "    'kernel_sizes_[3]_num_filters_[32]_fc_sizes_[128]',\n",
    "    'kernel_sizes_[3, 3]_num_filters_[32, 64]_fc_sizes_[128, 64]',\n",
    "    'kernel_sizes_[3, 3, 3]_num_filters_[32, 64, 64]_fc_sizes_[128, 64, 64]',\n",
    "    'kernel_sizes_[5]_num_filters_[32]_fc_sizes_[128]',\n",
    "    'kernel_sizes_[5, 5]_num_filters_[32, 64]_fc_sizes_[128, 64]',\n",
    "]\n",
    "\n",
    "names = [prefix + '_' + name + '_'+ suffix for name in names]\n",
    "names\n"
   ]
  },
  {
   "cell_type": "code",
   "execution_count": 13,
   "metadata": {},
   "outputs": [
    {
     "data": {
      "text/html": [
       "<div>\n",
       "<style scoped>\n",
       "    .dataframe tbody tr th:only-of-type {\n",
       "        vertical-align: middle;\n",
       "    }\n",
       "\n",
       "    .dataframe tbody tr th {\n",
       "        vertical-align: top;\n",
       "    }\n",
       "\n",
       "    .dataframe thead th {\n",
       "        text-align: right;\n",
       "    }\n",
       "</style>\n",
       "<table border=\"1\" class=\"dataframe\">\n",
       "  <thead>\n",
       "    <tr style=\"text-align: right;\">\n",
       "      <th></th>\n",
       "      <th>model</th>\n",
       "      <th>average_acc</th>\n",
       "      <th>std_acc</th>\n",
       "      <th>min_acc</th>\n",
       "      <th>max_acc</th>\n",
       "    </tr>\n",
       "  </thead>\n",
       "  <tbody>\n",
       "    <tr>\n",
       "      <th>2</th>\n",
       "      <td>kernel_[3, 3, 3]_filters_[32, 64, 64]_fc_[128,...</td>\n",
       "      <td>0.586</td>\n",
       "      <td>0.022</td>\n",
       "      <td>0.545</td>\n",
       "      <td>0.604</td>\n",
       "    </tr>\n",
       "    <tr>\n",
       "      <th>1</th>\n",
       "      <td>kernel_[3, 3]_filters_[32, 64]_fc_[128, 64]</td>\n",
       "      <td>0.562</td>\n",
       "      <td>0.005</td>\n",
       "      <td>0.557</td>\n",
       "      <td>0.571</td>\n",
       "    </tr>\n",
       "    <tr>\n",
       "      <th>4</th>\n",
       "      <td>kernel_[5, 5]_filters_[32, 64]_fc_[128, 64]</td>\n",
       "      <td>0.556</td>\n",
       "      <td>0.011</td>\n",
       "      <td>0.541</td>\n",
       "      <td>0.568</td>\n",
       "    </tr>\n",
       "    <tr>\n",
       "      <th>0</th>\n",
       "      <td>kernel_[3]_filters_[32]_fc_[128]</td>\n",
       "      <td>0.480</td>\n",
       "      <td>0.002</td>\n",
       "      <td>0.478</td>\n",
       "      <td>0.484</td>\n",
       "    </tr>\n",
       "    <tr>\n",
       "      <th>3</th>\n",
       "      <td>kernel_[5]_filters_[32]_fc_[128]</td>\n",
       "      <td>0.478</td>\n",
       "      <td>0.008</td>\n",
       "      <td>0.466</td>\n",
       "      <td>0.487</td>\n",
       "    </tr>\n",
       "  </tbody>\n",
       "</table>\n",
       "</div>"
      ],
      "text/plain": [
       "                                               model  average_acc  std_acc  \\\n",
       "2  kernel_[3, 3, 3]_filters_[32, 64, 64]_fc_[128,...        0.586    0.022   \n",
       "1        kernel_[3, 3]_filters_[32, 64]_fc_[128, 64]        0.562    0.005   \n",
       "4        kernel_[5, 5]_filters_[32, 64]_fc_[128, 64]        0.556    0.011   \n",
       "0                   kernel_[3]_filters_[32]_fc_[128]        0.480    0.002   \n",
       "3                   kernel_[5]_filters_[32]_fc_[128]        0.478    0.008   \n",
       "\n",
       "   min_acc  max_acc  \n",
       "2    0.545    0.604  \n",
       "1    0.557    0.571  \n",
       "4    0.541    0.568  \n",
       "0    0.478    0.484  \n",
       "3    0.466    0.487  "
      ]
     },
     "execution_count": 13,
     "metadata": {},
     "output_type": "execute_result"
    }
   ],
   "source": [
    "df = pd.DataFrame()\n",
    "for name in names:\n",
    "    df_ = pd.DataFrame()\n",
    "    model_info = get_model_info(name)\n",
    "    average_acc = np.mean(model_info['acc'])\n",
    "    std_acc = np.std(model_info['acc'])\n",
    "    min_acc = np.min(model_info['acc'])\n",
    "    max_acc = np.max(model_info['acc'])\n",
    "    df_['model'] = [name]\n",
    "    df_['average_acc'] = [average_acc]\n",
    "    df_['std_acc'] = [std_acc]\n",
    "    df_['min_acc'] = [min_acc]\n",
    "    df_['max_acc'] = [max_acc]\n",
    "    df = pd.concat([df, df_])\n",
    "df.reset_index(drop=True, inplace=True)\n",
    "df.sort_values(by='average_acc', ascending=False, inplace=True)\n",
    "df['model'] = df['model'].str[11:]\n",
    "df['model'] = df['model'].str.replace('_sizes', '')\n",
    "df['model'] = df['model'].str.replace('_num', '')\n",
    "df['model'] = df['model'].str.replace('_no_aug', '')\n",
    "df.round(3)"
   ]
  }
 ],
 "metadata": {
  "kernelspec": {
   "display_name": "py310",
   "language": "python",
   "name": "python3"
  },
  "language_info": {
   "codemirror_mode": {
    "name": "ipython",
    "version": 3
   },
   "file_extension": ".py",
   "mimetype": "text/x-python",
   "name": "python",
   "nbconvert_exporter": "python",
   "pygments_lexer": "ipython3",
   "version": "3.10.14"
  }
 },
 "nbformat": 4,
 "nbformat_minor": 2
}
