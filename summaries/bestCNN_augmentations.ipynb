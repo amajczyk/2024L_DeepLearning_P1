{
 "cells": [
  {
   "cell_type": "code",
   "execution_count": 1,
   "metadata": {},
   "outputs": [],
   "source": [
    "import numpy as np\n",
    "import pandas as pd\n",
    "import matplotlib.pyplot as plt\n",
    "import seaborn as sns\n",
    "\n",
    "%run -i \"../src/utils.py\""
   ]
  },
  {
   "cell_type": "code",
   "execution_count": 2,
   "metadata": {},
   "outputs": [
    {
     "data": {
      "text/plain": [
       "['BESTClassicCNN_aug_brightness_contrast0.5',\n",
       " 'BESTClassicCNN_aug_flip0.5',\n",
       " 'BESTClassicCNN_aug_gauss_noise0.5',\n",
       " 'BESTClassicCNN_aug_hue_saturation_value0.5',\n",
       " 'BESTClassicCNN_aug_transpose0.5',\n",
       " 'BESTClassicCNN_aug_flip0.5_gauss_noise0.5']"
      ]
     },
     "execution_count": 2,
     "metadata": {},
     "output_type": "execute_result"
    }
   ],
   "source": [
    "prefix = 'BESTClassicCNN_aug'\n",
    "names = [\n",
    "    'brightness_contrast0.5',\n",
    "    'flip0.5',\n",
    "    'gauss_noise0.5',\n",
    "    'hue_saturation_value0.5',\n",
    "    'transpose0.5',\n",
    "    'flip0.5_gauss_noise0.5',\n",
    "]\n",
    "\n",
    "names = [prefix + '_' + name for name in names]\n",
    "names\n"
   ]
  },
  {
   "cell_type": "code",
   "execution_count": 8,
   "metadata": {},
   "outputs": [
    {
     "data": {
      "text/html": [
       "<div>\n",
       "<style scoped>\n",
       "    .dataframe tbody tr th:only-of-type {\n",
       "        vertical-align: middle;\n",
       "    }\n",
       "\n",
       "    .dataframe tbody tr th {\n",
       "        vertical-align: top;\n",
       "    }\n",
       "\n",
       "    .dataframe thead th {\n",
       "        text-align: right;\n",
       "    }\n",
       "</style>\n",
       "<table border=\"1\" class=\"dataframe\">\n",
       "  <thead>\n",
       "    <tr style=\"text-align: right;\">\n",
       "      <th></th>\n",
       "      <th>augmentation</th>\n",
       "      <th>average_acc</th>\n",
       "      <th>std_acc</th>\n",
       "      <th>min_acc</th>\n",
       "      <th>max_acc</th>\n",
       "    </tr>\n",
       "  </thead>\n",
       "  <tbody>\n",
       "    <tr>\n",
       "      <th>5</th>\n",
       "      <td>flip0.5_gauss_noise0.5</td>\n",
       "      <td>0.645</td>\n",
       "      <td>0.005</td>\n",
       "      <td>0.637</td>\n",
       "      <td>0.652</td>\n",
       "    </tr>\n",
       "    <tr>\n",
       "      <th>1</th>\n",
       "      <td>flip0.5</td>\n",
       "      <td>0.643</td>\n",
       "      <td>0.011</td>\n",
       "      <td>0.629</td>\n",
       "      <td>0.660</td>\n",
       "    </tr>\n",
       "    <tr>\n",
       "      <th>2</th>\n",
       "      <td>gauss_noise0.5</td>\n",
       "      <td>0.588</td>\n",
       "      <td>0.003</td>\n",
       "      <td>0.584</td>\n",
       "      <td>0.593</td>\n",
       "    </tr>\n",
       "    <tr>\n",
       "      <th>3</th>\n",
       "      <td>hue_saturation_value0.5</td>\n",
       "      <td>0.551</td>\n",
       "      <td>0.049</td>\n",
       "      <td>0.468</td>\n",
       "      <td>0.599</td>\n",
       "    </tr>\n",
       "    <tr>\n",
       "      <th>0</th>\n",
       "      <td>brightness_contrast0.5</td>\n",
       "      <td>0.538</td>\n",
       "      <td>0.059</td>\n",
       "      <td>0.456</td>\n",
       "      <td>0.590</td>\n",
       "    </tr>\n",
       "    <tr>\n",
       "      <th>4</th>\n",
       "      <td>transpose0.5</td>\n",
       "      <td>0.532</td>\n",
       "      <td>0.096</td>\n",
       "      <td>0.403</td>\n",
       "      <td>0.614</td>\n",
       "    </tr>\n",
       "  </tbody>\n",
       "</table>\n",
       "</div>"
      ],
      "text/plain": [
       "              augmentation  average_acc  std_acc  min_acc  max_acc\n",
       "5   flip0.5_gauss_noise0.5        0.645    0.005    0.637    0.652\n",
       "1                  flip0.5        0.643    0.011    0.629    0.660\n",
       "2           gauss_noise0.5        0.588    0.003    0.584    0.593\n",
       "3  hue_saturation_value0.5        0.551    0.049    0.468    0.599\n",
       "0   brightness_contrast0.5        0.538    0.059    0.456    0.590\n",
       "4             transpose0.5        0.532    0.096    0.403    0.614"
      ]
     },
     "execution_count": 8,
     "metadata": {},
     "output_type": "execute_result"
    }
   ],
   "source": [
    "df = pd.DataFrame()\n",
    "for name in names:\n",
    "    df_ = pd.DataFrame()\n",
    "    model_info = get_model_info(name)\n",
    "    average_acc = np.mean(model_info['acc'])\n",
    "    std_acc = np.std(model_info['acc'])\n",
    "    min_acc = np.min(model_info['acc'])\n",
    "    max_acc = np.max(model_info['acc'])\n",
    "    df_['augmentation'] = [name]\n",
    "    df_['average_acc'] = [average_acc]\n",
    "    df_['std_acc'] = [std_acc]\n",
    "    df_['min_acc'] = [min_acc]\n",
    "    df_['max_acc'] = [max_acc]\n",
    "    df = pd.concat([df, df_])\n",
    "df.reset_index(drop=True, inplace=True)\n",
    "df.sort_values(by='average_acc', ascending=False, inplace=True)\n",
    "df['augmentation'] = df['augmentation'].str[19:]\n",
    "df.round(3)"
   ]
  }
 ],
 "metadata": {
  "kernelspec": {
   "display_name": "py310",
   "language": "python",
   "name": "python3"
  },
  "language_info": {
   "codemirror_mode": {
    "name": "ipython",
    "version": 3
   },
   "file_extension": ".py",
   "mimetype": "text/x-python",
   "name": "python",
   "nbconvert_exporter": "python",
   "pygments_lexer": "ipython3",
   "version": "3.10.14"
  }
 },
 "nbformat": 4,
 "nbformat_minor": 2
}
