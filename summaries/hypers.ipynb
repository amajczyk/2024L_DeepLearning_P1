{
 "cells": [
  {
   "cell_type": "code",
   "execution_count": 6,
   "metadata": {},
   "outputs": [],
   "source": [
    "import numpy as np\n",
    "import pandas as pd\n",
    "import matplotlib.pyplot as plt\n",
    "import seaborn as sns\n",
    "import json\n",
    "\n",
    "%run -i \"../src/utils.py\""
   ]
  },
  {
   "cell_type": "code",
   "execution_count": 7,
   "metadata": {},
   "outputs": [
    {
     "data": {
      "text/plain": [
       "['BESTClassicCNN_hyper_adam_0.0001',\n",
       " 'BESTClassicCNN_hyper_adam_0.001',\n",
       " 'BESTClassicCNN_hyper_adam_0.01',\n",
       " 'BESTClassicCNN_hyper_sgd_0.0001',\n",
       " 'BESTClassicCNN_hyper_sgd_0.001',\n",
       " 'BESTClassicCNN_hyper_sgd_0.01']"
      ]
     },
     "execution_count": 7,
     "metadata": {},
     "output_type": "execute_result"
    }
   ],
   "source": [
    "prefix = 'BESTClassicCNN_hyper'\n",
    "names = [\n",
    "    'adam_0.0001',\n",
    "    'adam_0.001',\n",
    "    'adam_0.01',\n",
    "    'sgd_0.0001',\n",
    "    'sgd_0.001',\n",
    "    'sgd_0.01',\n",
    "]\n",
    "\n",
    "names = [prefix + '_' + name for name in names]\n",
    "names\n"
   ]
  },
  {
   "cell_type": "code",
   "execution_count": 8,
   "metadata": {},
   "outputs": [
    {
     "data": {
      "text/html": [
       "<div>\n",
       "<style scoped>\n",
       "    .dataframe tbody tr th:only-of-type {\n",
       "        vertical-align: middle;\n",
       "    }\n",
       "\n",
       "    .dataframe tbody tr th {\n",
       "        vertical-align: top;\n",
       "    }\n",
       "\n",
       "    .dataframe thead th {\n",
       "        text-align: right;\n",
       "    }\n",
       "</style>\n",
       "<table border=\"1\" class=\"dataframe\">\n",
       "  <thead>\n",
       "    <tr style=\"text-align: right;\">\n",
       "      <th></th>\n",
       "      <th>hyperparams</th>\n",
       "      <th>average_acc</th>\n",
       "      <th>std_acc</th>\n",
       "      <th>min_acc</th>\n",
       "      <th>max_acc</th>\n",
       "    </tr>\n",
       "  </thead>\n",
       "  <tbody>\n",
       "    <tr>\n",
       "      <th>0</th>\n",
       "      <td>r_adam_0.0001</td>\n",
       "      <td>0.601</td>\n",
       "      <td>0.004</td>\n",
       "      <td>0.596</td>\n",
       "      <td>0.605</td>\n",
       "    </tr>\n",
       "    <tr>\n",
       "      <th>1</th>\n",
       "      <td>r_adam_0.001</td>\n",
       "      <td>0.599</td>\n",
       "      <td>0.006</td>\n",
       "      <td>0.588</td>\n",
       "      <td>0.607</td>\n",
       "    </tr>\n",
       "    <tr>\n",
       "      <th>5</th>\n",
       "      <td>r_sgd_0.01</td>\n",
       "      <td>0.596</td>\n",
       "      <td>0.011</td>\n",
       "      <td>0.574</td>\n",
       "      <td>0.605</td>\n",
       "    </tr>\n",
       "    <tr>\n",
       "      <th>4</th>\n",
       "      <td>r_sgd_0.001</td>\n",
       "      <td>0.594</td>\n",
       "      <td>0.012</td>\n",
       "      <td>0.570</td>\n",
       "      <td>0.601</td>\n",
       "    </tr>\n",
       "    <tr>\n",
       "      <th>2</th>\n",
       "      <td>r_adam_0.01</td>\n",
       "      <td>0.591</td>\n",
       "      <td>0.007</td>\n",
       "      <td>0.583</td>\n",
       "      <td>0.601</td>\n",
       "    </tr>\n",
       "    <tr>\n",
       "      <th>3</th>\n",
       "      <td>r_sgd_0.0001</td>\n",
       "      <td>0.584</td>\n",
       "      <td>0.019</td>\n",
       "      <td>0.552</td>\n",
       "      <td>0.607</td>\n",
       "    </tr>\n",
       "  </tbody>\n",
       "</table>\n",
       "</div>"
      ],
      "text/plain": [
       "     hyperparams  average_acc  std_acc  min_acc  max_acc\n",
       "0  r_adam_0.0001        0.601    0.004    0.596    0.605\n",
       "1   r_adam_0.001        0.599    0.006    0.588    0.607\n",
       "5     r_sgd_0.01        0.596    0.011    0.574    0.605\n",
       "4    r_sgd_0.001        0.594    0.012    0.570    0.601\n",
       "2    r_adam_0.01        0.591    0.007    0.583    0.601\n",
       "3   r_sgd_0.0001        0.584    0.019    0.552    0.607"
      ]
     },
     "execution_count": 8,
     "metadata": {},
     "output_type": "execute_result"
    }
   ],
   "source": [
    "df = pd.DataFrame()\n",
    "best_name = ''\n",
    "for name in names:\n",
    "    df_ = pd.DataFrame()\n",
    "    model_info = get_model_info(name)\n",
    "    average_acc = np.mean(model_info['acc'])\n",
    "    std_acc = np.std(model_info['acc'])\n",
    "    min_acc = np.min(model_info['acc'])\n",
    "    max_acc = np.max(model_info['acc'])\n",
    "    df_['hyperparams'] = [name]\n",
    "    df_['average_acc'] = [average_acc]\n",
    "    df_['std_acc'] = [std_acc]\n",
    "    df_['min_acc'] = [min_acc]\n",
    "    df_['max_acc'] = [max_acc]\n",
    "    df = pd.concat([df, df_])\n",
    "    if average_acc >= df['average_acc'].max():\n",
    "        best_name = name\n",
    "        \n",
    "df.reset_index(drop=True, inplace=True)\n",
    "df.sort_values(by='average_acc', ascending=False, inplace=True)\n",
    "df['hyperparams'] = df['hyperparams'].str[19:]\n",
    "df.round(3)"
   ]
  }
 ],
 "metadata": {
  "kernelspec": {
   "display_name": "py310",
   "language": "python",
   "name": "python3"
  },
  "language_info": {
   "codemirror_mode": {
    "name": "ipython",
    "version": 3
   },
   "file_extension": ".py",
   "mimetype": "text/x-python",
   "name": "python",
   "nbconvert_exporter": "python",
   "pygments_lexer": "ipython3",
   "version": "3.10.14"
  }
 },
 "nbformat": 4,
 "nbformat_minor": 2
}
