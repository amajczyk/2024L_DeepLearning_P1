{
 "cells": [
  {
   "cell_type": "code",
   "execution_count": 17,
   "metadata": {},
   "outputs": [],
   "source": [
    "import torch\n",
    "import torch.nn as nn\n",
    "import torch.optim as optim\n",
    "import torchvision\n",
    "import torchvision.transforms as transforms"
   ]
  },
  {
   "cell_type": "code",
   "execution_count": 18,
   "metadata": {},
   "outputs": [],
   "source": [
    "from torchvision.datasets import ImageFolder\n",
    "from torch.utils.data import DataLoader\n",
    "import os\n",
    "\n",
    "\n",
    "# Define the paths to the dataset\n",
    "train_path = \"../data/CINIC10/train\"\n",
    "test_path = \"../data/CINIC10/test\"\n",
    "val_path = \"../data/CINIC10/valid\"\n",
    "\n",
    "device = torch.device(\"cuda\" if torch.cuda.is_available() else \"cpu\")"
   ]
  },
  {
   "cell_type": "code",
   "execution_count": 19,
   "metadata": {},
   "outputs": [],
   "source": [
    "transform = transforms.Compose(\n",
    "    [\n",
    "        transforms.Resize((32, 32)),  # Resize images to 32x32\n",
    "        transforms.ToTensor(),  # Convert images to PyTorch tensors\n",
    "        transforms.Normalize((0.5, 0.5, 0.5), (0.5, 0.5, 0.5)),  # Normalize the images\n",
    "    ]\n",
    ")"
   ]
  },
  {
   "cell_type": "code",
   "execution_count": 20,
   "metadata": {},
   "outputs": [],
   "source": [
    "class CustomImageFolder(ImageFolder):\n",
    "    def __getitem__(self, index):\n",
    "        # Override the default __getitem__ method to return the image and the folder name\n",
    "        path, target = self.samples[index]\n",
    "        sample = self.loader(path)\n",
    "        if self.transform is not None:\n",
    "            sample = self.transform(sample)\n",
    "        if self.target_transform is not None:\n",
    "            target = self.target_transform(target)\n",
    "\n",
    "        # Get the folder name as the label\n",
    "        class_name = os.path.basename(os.path.dirname(path))\n",
    "        return sample, class_name\n",
    "\n",
    "\n",
    "# Usage example\n",
    "# train_dataset = CustomImageFolder(root=train_path, transform=transform)\n",
    "# test_dataset = CustomImageFolder(root=test_path, transform=transform)\n",
    "# val_dataset = CustomImageFolder(root=val_path, transform=transform)\n",
    "    \n"
   ]
  },
  {
   "cell_type": "code",
   "execution_count": 21,
   "metadata": {},
   "outputs": [],
   "source": [
    "from src.CNN import *\n",
    "from src.augmentations import *"
   ]
  },
  {
   "cell_type": "code",
   "execution_count": 22,
   "metadata": {},
   "outputs": [],
   "source": [
    "grid = {\n",
    "    'kernel_sizes': [\n",
    "        [3], \n",
    "        [3, 3],\n",
    "        [3, 3, 3],\n",
    "        ],\n",
    "    'num_filters': [32],\n",
    "    'num_fc_layers': [2, 3],\n",
    "    'fc_size': [8, 16],\n",
    "}"
   ]
  },
  {
   "cell_type": "code",
   "execution_count": 23,
   "metadata": {},
   "outputs": [],
   "source": [
    "# make each combination of hyperparameters\n",
    "from itertools import product\n",
    "keys, values = zip(*grid.items())\n",
    "combinations = [dict(zip(keys, v)) for v in product(*values)]\n",
    "len(combinations)\n",
    "\n",
    "# reverse the combinations\n",
    "combinations = combinations[::-1]\n"
   ]
  },
  {
   "cell_type": "code",
   "execution_count": 24,
   "metadata": {},
   "outputs": [
    {
     "name": "stdout",
     "output_type": "stream",
     "text": [
      "Number of combinations to train and test: 12\n"
     ]
    },
    {
     "data": {
      "application/vnd.jupyter.widget-view+json": {
       "model_id": "1a9e408d6e8645dd8e587fc2f3785675",
       "version_major": 2,
       "version_minor": 0
      },
      "text/plain": [
       "Combinations:   0%|          | 0/12 [00:00<?, ?it/s]"
      ]
     },
     "metadata": {},
     "output_type": "display_data"
    },
    {
     "name": "stdout",
     "output_type": "stream",
     "text": [
      "Combination: {'kernel_sizes': [3, 3, 3], 'num_filters': 32, 'num_fc_layers': 3, 'fc_size': 16}\n"
     ]
    },
    {
     "data": {
      "application/vnd.jupyter.widget-view+json": {
       "model_id": "7ceb0738c09b44778b6340c4c3f2bf55",
       "version_major": 2,
       "version_minor": 0
      },
      "text/plain": [
       "Iteration:   0%|          | 0/5 [00:00<?, ?it/s]"
      ]
     },
     "metadata": {},
     "output_type": "display_data"
    }
   ],
   "source": [
    "from tqdm.notebook import tqdm\n",
    "train_dataset = ImageFolder(root=train_path, transform=transform)\n",
    "test_dataset = ImageFolder(root=test_path, transform=transform)\n",
    "val_dataset = ImageFolder(root=val_path, transform=transform)\n",
    "\n",
    "# Define dataloaders\n",
    "batch_size = 64*4\n",
    "train_loader = DataLoader(train_dataset, batch_size=batch_size, shuffle=True)\n",
    "test_loader = DataLoader(test_dataset, batch_size=batch_size, shuffle=False)\n",
    "val_loader = DataLoader(val_dataset, batch_size=batch_size, shuffle=False)\n",
    "\n",
    "import pandas as pd\n",
    "try:\n",
    "    results = pd.read_csv('results.csv')\n",
    "except:\n",
    "    results = pd.DataFrame(columns=['kernel_sizes', 'num_filters', 'num_fc_layers', 'fc_size', 'accuracy', 'iteration', \n",
    "                                'class0_accuracy', 'class1_accuracy', 'class2_accuracy', 'class3_accuracy', 'class4_accuracy', \n",
    "                                'class5_accuracy', 'class6_accuracy', 'class7_accuracy', 'class8_accuracy',\n",
    "                                'class9_accuracy', ])\n",
    "    results.to_csv('results.csv', index=False)\n",
    "\n",
    "EPOCHS = 20\n",
    "iterations = 5\n",
    "\n",
    "# get already tested combinations\n",
    "tested_combinations = results[['kernel_sizes', 'num_filters', 'num_fc_layers', 'fc_size', 'iteration']]\n",
    "\n",
    "# check if each combination has been tested iterations times\n",
    "tested_combinations = tested_combinations.groupby(['kernel_sizes', 'num_filters', 'num_fc_layers', 'fc_size']).filter(lambda x: len(x) == iterations)\n",
    "\n",
    "# remove tested combinations from the list\n",
    "combinations = [combination for combination in combinations if combination not in tested_combinations.to_dict(orient='records')]\n",
    "\n",
    "print(f'Number of combinations to train and test: {len(combinations)}')\n",
    "\n",
    "ten_percent = 90000/batch_size // 10\n",
    "\n",
    "for combination in tqdm(combinations, desc=f'Combinations'):\n",
    "    print(f'Combination: {combination}')\n",
    "    for iteration in tqdm(range(iterations), desc=f'Iteration'):\n",
    "        net = create_cnn(**combination)\n",
    "        net = net.to(device)\n",
    "\n",
    "        criterion = nn.CrossEntropyLoss()\n",
    "        optimizer = optim.Adam(net.parameters(), lr=0.001, )\n",
    "\n",
    "        # Train the network\n",
    "        # losses = []\n",
    "        for epoch in range(EPOCHS):  # loop over the dataset multiple times\n",
    "            running_loss = 0.0\n",
    "            for i, data in enumerate(train_loader, 0):\n",
    "                inputs, labels = data[0].to(device), data[1].to(device)\n",
    "                optimizer.zero_grad()\n",
    "\n",
    "                outputs = net(inputs)\n",
    "                # print(outputs.shape)\n",
    "                # print(labels)\n",
    "                # break\n",
    "\n",
    "                loss = criterion(outputs, labels)\n",
    "                loss.backward()\n",
    "                optimizer.step()\n",
    "\n",
    "                running_loss += loss.item()\n",
    "                if i % ten_percent == ten_percent - 1:  \n",
    "                    print('[%d, %5d] loss: %.3f' %\n",
    "                        (epoch + 1, i + 1, running_loss / ten_percent))\n",
    "                    # losses.append(running_loss / ten_percent)\n",
    "                    running_loss = 0.0\n",
    "                \n",
    "                    # # if 3 previous losses are not an improvement, break\n",
    "                    # if len(losses) > 3 and losses[-1] > losses[-2] > losses[-3]:\n",
    "                    #     print('Early stopping due to loss not improving for 3 batches.')\n",
    "                    #     break\n",
    "\n",
    "\n",
    "        print('Finished Training')\n",
    "        print(f'LOSS {running_loss} for combination {combination} and iteration {iteration}')\n",
    "\n",
    "        # Test the network\n",
    "        correct = 0\n",
    "        total = 0\n",
    "        class_correct = list(0. for i in range(10))\n",
    "        class_total = list(0. for i in range(10))\n",
    "        with torch.no_grad():\n",
    "            for data in test_loader:\n",
    "                images, labels = data[0].to(device), data[1].to(device)\n",
    "                outputs = net(images)\n",
    "                _, predicted = torch.max(outputs.data, 1)\n",
    "                total += labels.size(0)\n",
    "                correct += (predicted == labels).sum().item()\n",
    "\n",
    "                for i in range(10):\n",
    "                    label = labels[i]\n",
    "                    class_correct[label] += (predicted[i] == label).item()\n",
    "                    class_total[label] += 1\n",
    "            \n",
    "        results = pd.concat([results, pd.DataFrame([{\n",
    "            'kernel_sizes': combination['kernel_sizes'], \n",
    "            'num_filters': combination['num_filters'], \n",
    "            'num_fc_layers': combination['num_fc_layers'], \n",
    "            'fc_size': combination['fc_size'], \n",
    "            'accuracy': 100 * correct / total, \n",
    "            'iteration': iteration,\n",
    "            'class0_accuracy': 100 * class_correct[0] / class_total[0], \n",
    "            'class1_accuracy': 100 * class_correct[1] / class_total[1], \n",
    "            'class2_accuracy': 100 * class_correct[2] / class_total[2], \n",
    "            'class3_accuracy': 100 * class_correct[3] / class_total[3], \n",
    "            'class4_accuracy': 100 * class_correct[4] / class_total[4], \n",
    "            'class5_accuracy': 100 * class_correct[5] / class_total[5], \n",
    "            'class6_accuracy': 100 * class_correct[6] / class_total[6], \n",
    "            'class7_accuracy': 100 * class_correct[7] / class_total[7], \n",
    "            'class8_accuracy': 100 * class_correct[8] / class_total[8], \n",
    "            'class9_accuracy': 100 * class_correct[9] / class_total[9], \n",
    "        }])])\n",
    "\n",
    "        results.to_csv('results.csv', index=False)\n",
    "\n",
    "                \n",
    "\n",
    "        print('Accuracy of the network on the test images: %d %%' % (\n",
    "            100 * correct / total))\n",
    "\n",
    "        # Save the model\n",
    "        combination_str = '_'.join([f'{k}_{v}' for k, v in combination.items()])\n",
    "        torch.save(net.state_dict(), f'../models/cnn_{combination_str}.pth')\n",
    "\n",
    "\n",
    "\n",
    "        print(f'Finished Testing for combination {combination} and iteration {iteration}')"
   ]
  },
  {
   "cell_type": "code",
   "execution_count": null,
   "metadata": {},
   "outputs": [],
   "source": []
  }
 ],
 "metadata": {
  "kernelspec": {
   "display_name": "Python 3",
   "language": "python",
   "name": "python3"
  },
  "language_info": {
   "codemirror_mode": {
    "name": "ipython",
    "version": 3
   },
   "file_extension": ".py",
   "mimetype": "text/x-python",
   "name": "python",
   "nbconvert_exporter": "python",
   "pygments_lexer": "ipython3",
   "version": "3.10.9"
  }
 },
 "nbformat": 4,
 "nbformat_minor": 2
}
