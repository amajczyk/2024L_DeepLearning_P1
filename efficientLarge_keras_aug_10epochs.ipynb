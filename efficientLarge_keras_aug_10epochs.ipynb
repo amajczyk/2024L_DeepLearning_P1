{
 "cells": [
  {
   "cell_type": "code",
   "execution_count": 1,
   "metadata": {},
   "outputs": [],
   "source": [
    "import tensorflow as tf\n",
    "from tensorflow import keras\n",
    "from tensorflow.keras import layers\n",
    "import random\n",
    "\n",
    "from copy import deepcopy\n",
    "import numpy as np\n",
    "from sklearn.metrics import confusion_matrix, accuracy_score\n",
    "from tqdm.notebook import tqdm\n",
    "from tensorflow.keras.optimizers import Adam\n",
    "from tensorflow.keras.models import Sequential\n",
    "from tensorflow.keras.layers import Dense, Flatten\n",
    "\n",
    "from src.augmentations.CustomAugmentations import CustomAugmentationsTF\n",
    "import matplotlib.pyplot as plt\n",
    "import pickle\n",
    "np.random.seed(42)\n",
    "tf.random.set_seed(42)\n",
    "random.seed(42)\n",
    "\n",
    "import os \n",
    "os.environ[\"PYTHONHASHSEED\"] = \"42\"\n",
    "\n",
    "keras.utils.set_random_seed(42)\n"
   ]
  },
  {
   "cell_type": "code",
   "execution_count": 2,
   "metadata": {},
   "outputs": [],
   "source": [
    "height,width=32,32\n",
    "batch_size=64"
   ]
  },
  {
   "cell_type": "code",
   "execution_count": 3,
   "metadata": {},
   "outputs": [
    {
     "data": {
      "text/plain": [
       "[{'flip': 0.5, 'gauss_noise': 0.5}]"
      ]
     },
     "execution_count": 3,
     "metadata": {},
     "output_type": "execute_result"
    }
   ],
   "source": [
    "\n",
    "# Define the augmentation probabilities\n",
    "p_dict = {\n",
    "  \"flip\": 0.5,\n",
    "  # \"transpose\": 0.5,\n",
    "  \"gauss_noise\": 0.5,\n",
    "  # \"brightness_contrast\": 0.5,\n",
    "  # \"hue_saturation_value\": 0.5,\n",
    "}\n",
    "\n",
    "p_dicts = []\n",
    "# for aug_type in p_dict.keys():\n",
    "#     p_d = {aug_type: .5}\n",
    "#     p_dicts.append(p_d)\n",
    "\n",
    "# p_dict = {\n",
    "#   \"flip\": 0.5,\n",
    "#   # \"transpose\": 0.5,\n",
    "#   \"gauss_noise\": 0.5,\n",
    "#   # \"brightness_contrast\": 0.5,\n",
    "#   # \"hue_saturation_value\": 0.5,\n",
    "# }\n",
    "p_dicts.append(p_dict)\n",
    "\n",
    "p_dicts\n"
   ]
  },
  {
   "cell_type": "code",
   "execution_count": 4,
   "metadata": {},
   "outputs": [
    {
     "data": {
      "application/vnd.jupyter.widget-view+json": {
       "model_id": "611eeb2cc2e44a4ca7578f7da28afdd2",
       "version_major": 2,
       "version_minor": 0
      },
      "text/plain": [
       "Augmentation:   0%|          | 0/1 [00:00<?, ?it/s]"
      ]
     },
     "metadata": {},
     "output_type": "display_data"
    },
    {
     "name": "stdout",
     "output_type": "stream",
     "text": [
      "Augmentations: flip0.5_gauss_noise0.5\n"
     ]
    },
    {
     "data": {
      "application/vnd.jupyter.widget-view+json": {
       "model_id": "478aecaab1f8442da76a85de7f6c67ad",
       "version_major": 2,
       "version_minor": 0
      },
      "text/plain": [
       "Iteration:   0%|          | 0/5 [00:00<?, ?it/s]"
      ]
     },
     "metadata": {},
     "output_type": "display_data"
    },
    {
     "name": "stdout",
     "output_type": "stream",
     "text": [
      "Found 90000 files belonging to 10 classes.\n",
      "Using 85500 files for training.\n",
      "Found 90000 files belonging to 10 classes.\n",
      "Using 4500 files for validation.\n",
      "Found 90000 files belonging to 10 classes.\n",
      "Fitting model 0\n"
     ]
    },
    {
     "data": {
      "application/vnd.jupyter.widget-view+json": {
       "model_id": "d5f3415de202457689a2fe849e4022d0",
       "version_major": 2,
       "version_minor": 0
      },
      "text/plain": [
       "Epoch:   0%|          | 0/13 [00:00<?, ?it/s]"
      ]
     },
     "metadata": {},
     "output_type": "display_data"
    },
    {
     "name": "stdout",
     "output_type": "stream",
     "text": [
      "Epoch 1/13\n",
      "1336/1336 [==============================] - 238s 155ms/step - loss: 1.2168 - accuracy: 0.5695 - val_loss: 0.8913 - val_accuracy: 0.6896\n",
      "Epoch 2/13\n",
      "1336/1336 [==============================] - 237s 177ms/step - loss: 0.8901 - accuracy: 0.6948 - val_loss: 0.8974 - val_accuracy: 0.6864\n",
      "Epoch 3/13\n",
      "1336/1336 [==============================] - 207s 155ms/step - loss: 0.9248 - accuracy: 0.6791 - val_loss: 1.2520 - val_accuracy: 0.5573\n",
      "Epoch 4/13\n",
      "1336/1336 [==============================] - 198s 148ms/step - loss: 1.0997 - accuracy: 0.6159 - val_loss: 1.0565 - val_accuracy: 0.6422\n",
      "Epoch 5/13\n",
      "1336/1336 [==============================] - 194s 145ms/step - loss: 0.9558 - accuracy: 0.6675 - val_loss: 0.9471 - val_accuracy: 0.6664\n",
      "Epoch 6/13\n",
      "1336/1336 [==============================] - 192s 144ms/step - loss: 0.7619 - accuracy: 0.7358 - val_loss: 0.8536 - val_accuracy: 0.7013\n",
      "Epoch 7/13\n",
      "1336/1336 [==============================] - 182s 136ms/step - loss: 0.8886 - accuracy: 0.6887 - val_loss: 1.0047 - val_accuracy: 0.6416\n",
      "Epoch 8/13\n",
      "1336/1336 [==============================] - 186s 140ms/step - loss: 0.8698 - accuracy: 0.6964 - val_loss: 0.8402 - val_accuracy: 0.7084\n",
      "Epoch 9/13\n",
      "1336/1336 [==============================] - 190s 142ms/step - loss: 0.6512 - accuracy: 0.7727 - val_loss: 0.7846 - val_accuracy: 0.7296\n",
      "Epoch 10/13\n",
      "1336/1336 [==============================] - 193s 144ms/step - loss: 0.6686 - accuracy: 0.7679 - val_loss: 0.7715 - val_accuracy: 0.7267\n",
      "Epoch 11/13\n",
      "1336/1336 [==============================] - 211s 158ms/step - loss: 0.5419 - accuracy: 0.8120 - val_loss: 0.8139 - val_accuracy: 0.7284\n",
      "Epoch 12/13\n",
      "1336/1336 [==============================] - 222s 166ms/step - loss: 0.5881 - accuracy: 0.7953 - val_loss: 0.7275 - val_accuracy: 0.7507\n",
      "Epoch 13/13\n",
      "1336/1336 [==============================] - 227s 169ms/step - loss: 0.4567 - accuracy: 0.8427 - val_loss: 0.7984 - val_accuracy: 0.7418\n",
      "Predicting model 0\n",
      "1407/1407 - 52s - 52s/epoch - 37ms/step\n",
      "Accuracy: 0.7437222222222222 for model 0\n",
      "Saving model 0\n",
      "Found 90000 files belonging to 10 classes.\n",
      "Using 85500 files for training.\n",
      "Found 90000 files belonging to 10 classes.\n",
      "Using 4500 files for validation.\n",
      "Found 90000 files belonging to 10 classes.\n",
      "Fitting model 1\n"
     ]
    },
    {
     "data": {
      "application/vnd.jupyter.widget-view+json": {
       "model_id": "004a93a9d41d47de8ad17053d57318df",
       "version_major": 2,
       "version_minor": 0
      },
      "text/plain": [
       "Epoch:   0%|          | 0/13 [00:00<?, ?it/s]"
      ]
     },
     "metadata": {},
     "output_type": "display_data"
    },
    {
     "name": "stdout",
     "output_type": "stream",
     "text": [
      "Epoch 1/13\n",
      "1336/1336 [==============================] - 200s 131ms/step - loss: 1.2408 - accuracy: 0.5608 - val_loss: 0.9515 - val_accuracy: 0.6649\n",
      "Epoch 2/13\n",
      "1336/1336 [==============================] - 181s 135ms/step - loss: 0.9321 - accuracy: 0.6840 - val_loss: 0.8708 - val_accuracy: 0.7031\n",
      "Epoch 3/13\n",
      "1336/1336 [==============================] - 182s 136ms/step - loss: 0.8067 - accuracy: 0.7267 - val_loss: 0.7978 - val_accuracy: 0.7251\n",
      "Epoch 4/13\n",
      "1336/1336 [==============================] - 190s 142ms/step - loss: 1.0751 - accuracy: 0.6269 - val_loss: 1.1332 - val_accuracy: 0.6091\n",
      "Epoch 5/13\n",
      "1336/1336 [==============================] - 188s 141ms/step - loss: 1.0431 - accuracy: 0.6369 - val_loss: 0.9368 - val_accuracy: 0.6718\n",
      "Epoch 6/13\n",
      "1336/1336 [==============================] - 189s 141ms/step - loss: 0.8557 - accuracy: 0.7028 - val_loss: 0.8507 - val_accuracy: 0.7078\n",
      "Epoch 7/13\n",
      "1336/1336 [==============================] - 192s 144ms/step - loss: 0.7163 - accuracy: 0.7524 - val_loss: 1.0645 - val_accuracy: 0.7360\n",
      "Epoch 8/13\n",
      "1336/1336 [==============================] - 189s 141ms/step - loss: 0.6160 - accuracy: 0.7898 - val_loss: 0.9007 - val_accuracy: 0.6942\n",
      "Epoch 9/13\n",
      "1336/1336 [==============================] - 187s 140ms/step - loss: 0.7657 - accuracy: 0.7358 - val_loss: 0.7121 - val_accuracy: 0.7493\n",
      "Epoch 10/13\n",
      "1336/1336 [==============================] - 186s 139ms/step - loss: 0.5782 - accuracy: 0.8006 - val_loss: 0.7188 - val_accuracy: 0.7560\n",
      "Epoch 11/13\n",
      "1336/1336 [==============================] - 187s 140ms/step - loss: 0.4592 - accuracy: 0.8413 - val_loss: 0.7660 - val_accuracy: 0.7522\n",
      "Epoch 12/13\n",
      "1336/1336 [==============================] - 180s 135ms/step - loss: 0.5459 - accuracy: 0.8122 - val_loss: 0.6946 - val_accuracy: 0.7640\n",
      "Epoch 13/13\n",
      "1336/1336 [==============================] - 182s 136ms/step - loss: 0.4140 - accuracy: 0.8589 - val_loss: 0.7579 - val_accuracy: 0.7653\n",
      "Predicting model 1\n",
      "1407/1407 - 56s - 56s/epoch - 40ms/step\n",
      "Accuracy: 0.7557333333333334 for model 1\n",
      "Saving model 1\n",
      "Found 90000 files belonging to 10 classes.\n",
      "Using 85500 files for training.\n",
      "Found 90000 files belonging to 10 classes.\n",
      "Using 4500 files for validation.\n",
      "Found 90000 files belonging to 10 classes.\n",
      "Fitting model 2\n"
     ]
    },
    {
     "data": {
      "application/vnd.jupyter.widget-view+json": {
       "model_id": "f14af4ba3aa14ddb8af384dabcb4a996",
       "version_major": 2,
       "version_minor": 0
      },
      "text/plain": [
       "Epoch:   0%|          | 0/13 [00:00<?, ?it/s]"
      ]
     },
     "metadata": {},
     "output_type": "display_data"
    },
    {
     "name": "stdout",
     "output_type": "stream",
     "text": [
      "Epoch 1/13\n",
      "1336/1336 [==============================] - 208s 137ms/step - loss: 1.2341 - accuracy: 0.5644 - val_loss: 0.9464 - val_accuracy: 0.6724\n",
      "Epoch 2/13\n",
      "1336/1336 [==============================] - 186s 139ms/step - loss: 1.1077 - accuracy: 0.6142 - val_loss: 0.9718 - val_accuracy: 0.6540\n",
      "Epoch 3/13\n",
      "1336/1336 [==============================] - 187s 140ms/step - loss: 1.1121 - accuracy: 0.6096 - val_loss: 0.9250 - val_accuracy: 0.6740\n",
      "Epoch 4/13\n",
      "1336/1336 [==============================] - 187s 140ms/step - loss: 0.9961 - accuracy: 0.6515 - val_loss: 0.9639 - val_accuracy: 0.6482\n",
      "Epoch 5/13\n",
      "1336/1336 [==============================] - 186s 139ms/step - loss: 1.0234 - accuracy: 0.6403 - val_loss: 0.9511 - val_accuracy: 0.6658\n",
      "Epoch 6/13\n",
      "1336/1336 [==============================] - 188s 141ms/step - loss: 0.9912 - accuracy: 0.6529 - val_loss: 0.9167 - val_accuracy: 0.6882\n",
      "Epoch 7/13\n",
      "1336/1336 [==============================] - 185s 138ms/step - loss: 0.9532 - accuracy: 0.6685 - val_loss: 0.9912 - val_accuracy: 0.6553\n",
      "Epoch 8/13\n",
      "1336/1336 [==============================] - 184s 137ms/step - loss: 0.8786 - accuracy: 0.6933 - val_loss: 0.8495 - val_accuracy: 0.7080\n",
      "Epoch 9/13\n",
      "1336/1336 [==============================] - 184s 138ms/step - loss: 0.8389 - accuracy: 0.7063 - val_loss: 0.8416 - val_accuracy: 0.7024\n",
      "Epoch 10/13\n",
      "1336/1336 [==============================] - 184s 138ms/step - loss: 0.7355 - accuracy: 0.7436 - val_loss: 0.7742 - val_accuracy: 0.7296\n",
      "Epoch 11/13\n",
      "1336/1336 [==============================] - 187s 140ms/step - loss: 0.6207 - accuracy: 0.7838 - val_loss: 0.8028 - val_accuracy: 0.7220\n",
      "Epoch 12/13\n",
      "1336/1336 [==============================] - 184s 138ms/step - loss: 0.7129 - accuracy: 0.7504 - val_loss: 0.6963 - val_accuracy: 0.7560\n",
      "Epoch 13/13\n",
      "1336/1336 [==============================] - 184s 138ms/step - loss: 0.5949 - accuracy: 0.7933 - val_loss: 0.7227 - val_accuracy: 0.7478\n",
      "Predicting model 2\n",
      "1407/1407 - 56s - 56s/epoch - 40ms/step\n",
      "Accuracy: 0.7435111111111111 for model 2\n",
      "Saving model 2\n",
      "Found 90000 files belonging to 10 classes.\n",
      "Using 85500 files for training.\n",
      "Found 90000 files belonging to 10 classes.\n",
      "Using 4500 files for validation.\n",
      "Found 90000 files belonging to 10 classes.\n",
      "Fitting model 3\n"
     ]
    },
    {
     "data": {
      "application/vnd.jupyter.widget-view+json": {
       "model_id": "a0e4520520b04a23819798b90d0ee06f",
       "version_major": 2,
       "version_minor": 0
      },
      "text/plain": [
       "Epoch:   0%|          | 0/13 [00:00<?, ?it/s]"
      ]
     },
     "metadata": {},
     "output_type": "display_data"
    },
    {
     "name": "stdout",
     "output_type": "stream",
     "text": [
      "Epoch 1/13\n",
      "1336/1336 [==============================] - 209s 138ms/step - loss: 1.2629 - accuracy: 0.5515 - val_loss: 1.1456 - val_accuracy: 0.6076\n",
      "Epoch 2/13\n",
      "1336/1336 [==============================] - 183s 137ms/step - loss: 1.1936 - accuracy: 0.5824 - val_loss: 1.1655 - val_accuracy: 0.5891\n",
      "Epoch 3/13\n",
      "1336/1336 [==============================] - 183s 137ms/step - loss: 1.2253 - accuracy: 0.5694 - val_loss: 1.1915 - val_accuracy: 0.5887\n",
      "Epoch 4/13\n",
      "1336/1336 [==============================] - 183s 137ms/step - loss: 1.1169 - accuracy: 0.6060 - val_loss: 1.0348 - val_accuracy: 0.6273\n",
      "Epoch 5/13\n",
      "1336/1336 [==============================] - 187s 140ms/step - loss: 1.0551 - accuracy: 0.6306 - val_loss: 1.0117 - val_accuracy: 0.6478\n",
      "Epoch 6/13\n",
      "1336/1336 [==============================] - 186s 139ms/step - loss: 1.0747 - accuracy: 0.6218 - val_loss: 1.0778 - val_accuracy: 0.6204\n",
      "Epoch 7/13\n",
      "1336/1336 [==============================] - 185s 138ms/step - loss: 0.9770 - accuracy: 0.6568 - val_loss: 0.8775 - val_accuracy: 0.6862\n",
      "Epoch 8/13\n",
      "1336/1336 [==============================] - 185s 139ms/step - loss: 0.8525 - accuracy: 0.7004 - val_loss: 0.9022 - val_accuracy: 0.6833\n",
      "Epoch 9/13\n",
      "1336/1336 [==============================] - 184s 138ms/step - loss: 0.7401 - accuracy: 0.7410 - val_loss: 0.9858 - val_accuracy: 0.6658\n",
      "Epoch 10/13\n",
      "1336/1336 [==============================] - 187s 140ms/step - loss: 0.8439 - accuracy: 0.7045 - val_loss: 0.8081 - val_accuracy: 0.7162\n",
      "Epoch 11/13\n",
      "1336/1336 [==============================] - 185s 138ms/step - loss: 0.6807 - accuracy: 0.7622 - val_loss: 0.9247 - val_accuracy: 0.7151\n",
      "Epoch 12/13\n",
      "1336/1336 [==============================] - 186s 139ms/step - loss: 0.6118 - accuracy: 0.7878 - val_loss: 0.8249 - val_accuracy: 0.7240\n",
      "Epoch 13/13\n",
      "1336/1336 [==============================] - 185s 138ms/step - loss: 0.6705 - accuracy: 0.7679 - val_loss: 0.7593 - val_accuracy: 0.7309\n",
      "Predicting model 3\n",
      "1407/1407 - 54s - 54s/epoch - 38ms/step\n",
      "Accuracy: 0.7394777777777778 for model 3\n",
      "Saving model 3\n",
      "Found 90000 files belonging to 10 classes.\n",
      "Using 85500 files for training.\n",
      "Found 90000 files belonging to 10 classes.\n",
      "Using 4500 files for validation.\n",
      "Found 90000 files belonging to 10 classes.\n",
      "Fitting model 4\n"
     ]
    },
    {
     "data": {
      "application/vnd.jupyter.widget-view+json": {
       "model_id": "0fb15a2b01554b2fad23ffa73b3778bd",
       "version_major": 2,
       "version_minor": 0
      },
      "text/plain": [
       "Epoch:   0%|          | 0/13 [00:00<?, ?it/s]"
      ]
     },
     "metadata": {},
     "output_type": "display_data"
    },
    {
     "name": "stdout",
     "output_type": "stream",
     "text": [
      "Epoch 1/13\n",
      "1336/1336 [==============================] - 209s 138ms/step - loss: 1.2485 - accuracy: 0.5566 - val_loss: 0.9547 - val_accuracy: 0.6778\n",
      "Epoch 2/13\n",
      "1336/1336 [==============================] - 183s 137ms/step - loss: 1.0077 - accuracy: 0.6498 - val_loss: 1.0110 - val_accuracy: 0.6573\n",
      "Epoch 3/13\n",
      "1336/1336 [==============================] - 185s 138ms/step - loss: 0.8031 - accuracy: 0.7247 - val_loss: 0.8022 - val_accuracy: 0.7260\n",
      "Epoch 4/13\n",
      "1336/1336 [==============================] - 185s 139ms/step - loss: 0.6658 - accuracy: 0.7714 - val_loss: 0.8928 - val_accuracy: 0.7156\n",
      "Epoch 5/13\n",
      "1336/1336 [==============================] - 185s 139ms/step - loss: 0.8196 - accuracy: 0.7175 - val_loss: 0.8678 - val_accuracy: 0.6967\n",
      "Epoch 6/13\n",
      "1336/1336 [==============================] - 186s 139ms/step - loss: 0.7319 - accuracy: 0.7483 - val_loss: 0.7647 - val_accuracy: 0.7409\n",
      "Epoch 7/13\n",
      "1336/1336 [==============================] - 188s 140ms/step - loss: 0.6552 - accuracy: 0.7745 - val_loss: 0.7415 - val_accuracy: 0.7509\n",
      "Epoch 8/13\n",
      "1336/1336 [==============================] - 189s 141ms/step - loss: 0.5758 - accuracy: 0.8016 - val_loss: 0.7572 - val_accuracy: 0.7511\n",
      "Epoch 9/13\n",
      "1336/1336 [==============================] - 187s 140ms/step - loss: 0.5053 - accuracy: 0.8270 - val_loss: 0.7454 - val_accuracy: 0.7560\n",
      "Epoch 10/13\n",
      "1336/1336 [==============================] - 187s 140ms/step - loss: 0.3792 - accuracy: 0.8709 - val_loss: 0.8776 - val_accuracy: 0.7420\n",
      "Epoch 11/13\n",
      "1336/1336 [==============================] - 188s 141ms/step - loss: 0.5756 - accuracy: 0.8018 - val_loss: 0.7990 - val_accuracy: 0.7453\n",
      "Epoch 12/13\n",
      "1336/1336 [==============================] - 191s 143ms/step - loss: 0.4393 - accuracy: 0.8495 - val_loss: 0.7591 - val_accuracy: 0.7600\n",
      "Epoch 13/13\n",
      "1336/1336 [==============================] - 187s 140ms/step - loss: 0.3787 - accuracy: 0.8751 - val_loss: 1.8061 - val_accuracy: 0.7004\n",
      "Predicting model 4\n",
      "1407/1407 - 54s - 54s/epoch - 38ms/step\n",
      "Accuracy: 0.7007 for model 4\n",
      "Saving model 4\n"
     ]
    }
   ],
   "source": [
    "EPOCHS = 13\n",
    "\n",
    "histories = list()\n",
    "accuracies = list()\n",
    "class_accuracies = list()\n",
    "conf_mats = list()\n",
    "\n",
    "for augs in tqdm(p_dicts, desc=\"Augmentation\"):\n",
    "    aug_str = \"_\".join([key + str(value) for key, value in augs.items()])\n",
    "    print(f\"Augmentations: {aug_str}\")\n",
    "\n",
    "    for iteration in tqdm(range(5), desc=\"Iteration\"):\n",
    "        train_set = tf.keras.preprocessing.image_dataset_from_directory(\n",
    "            \"../data/CINIC10/train\",\n",
    "            labels=\"inferred\",\n",
    "            label_mode=\"int\",\n",
    "            class_names=None,\n",
    "            color_mode=\"rgb\",\n",
    "            batch_size=batch_size,\n",
    "            image_size=(height, width),\n",
    "            shuffle=True,\n",
    "            seed=iteration,\n",
    "            validation_split=0.05,\n",
    "            subset=\"training\",\n",
    "        )\n",
    "\n",
    "        val_set = tf.keras.preprocessing.image_dataset_from_directory(\n",
    "            \"../data/CINIC10/valid\",\n",
    "            labels=\"inferred\",\n",
    "            label_mode=\"int\",\n",
    "            class_names=None,\n",
    "            color_mode=\"rgb\",\n",
    "            batch_size=batch_size,\n",
    "            image_size=(height, width),\n",
    "            shuffle=True,\n",
    "            seed=iteration,\n",
    "            validation_split=0.05,\n",
    "            subset=\"validation\",\n",
    "        )\n",
    "\n",
    "        test_set = tf.keras.preprocessing.image_dataset_from_directory(\n",
    "            \"../data/CINIC10/test\",\n",
    "            labels=\"inferred\",\n",
    "            label_mode=\"int\",\n",
    "            class_names=None,\n",
    "            color_mode=\"rgb\",\n",
    "            batch_size=batch_size,\n",
    "            image_size=(height, width),\n",
    "            shuffle=False,\n",
    "        )\n",
    "\n",
    "        dnn_model = Sequential()\n",
    "        imported_model = tf.keras.applications.EfficientNetV2L(\n",
    "            include_top=False,\n",
    "            input_shape=(height, width, 3),\n",
    "            pooling=\"max\",\n",
    "            classes=10,\n",
    "            weights=\"imagenet\",\n",
    "        )\n",
    "\n",
    "        dnn_model.add(imported_model)\n",
    "        dnn_model.add(Flatten())\n",
    "        dnn_model.add(Dense(2048, activation=\"relu\"))\n",
    "        dnn_model.add(Dense(1024, activation=\"relu\"))\n",
    "        dnn_model.add(Dense(10, activation=\"softmax\"))\n",
    "\n",
    "        dnn_model.compile(\n",
    "            optimizer=Adam(learning_rate=0.001),\n",
    "            loss=\"sparse_categorical_crossentropy\",\n",
    "            metrics=[\"accuracy\"],\n",
    "        )\n",
    "       \n",
    "\n",
    "        history = {\n",
    "            \"loss\": list(),\n",
    "            \"accuracy\": list(),\n",
    "            \"val_loss\": list(),\n",
    "            \"val_accuracy\": list(),\n",
    "        }\n",
    "\n",
    "        print(f\"Fitting model {iteration}\")\n",
    "        for epoch in tqdm(range(EPOCHS), desc=\"Epoch\"):\n",
    "            print(f\"Epoch {epoch + 1}/{EPOCHS}\")\n",
    "            custom_aug = CustomAugmentationsTF(augs)\n",
    "            train_set_aug = train_set.map(lambda x, y: (custom_aug.augment(x), y))\n",
    "\n",
    "            hist_ = dnn_model.fit(train_set_aug, validation_data=val_set, epochs=1)\n",
    "            history[\"loss\"].append(hist_.history[\"loss\"])\n",
    "            history[\"accuracy\"].append(hist_.history[\"accuracy\"])\n",
    "            history[\"val_loss\"].append(hist_.history[\"val_loss\"])\n",
    "            history[\"val_accuracy\"].append(hist_.history[\"val_accuracy\"])\n",
    "\n",
    "        print(f\"Predicting model {iteration}\")\n",
    "        preds = dnn_model.predict(test_set, verbose=2)\n",
    "        preds = preds.argmax(axis=1)\n",
    "        classes = test_set.class_names\n",
    "        test_labels = list()\n",
    "        for images, labels in test_set:\n",
    "            class_labels = [int(label) for label in labels]\n",
    "            test_labels.extend(class_labels)\n",
    "        test_labels = np.array(test_labels)\n",
    "\n",
    "        conf_mat = confusion_matrix(test_labels, preds)\n",
    "        accuracy = accuracy_score(test_labels, preds)\n",
    "        print(f\"Accuracy: {accuracy} for model {iteration}\")\n",
    "        class_accuracy = conf_mat.diagonal() / conf_mat.sum(axis=1)\n",
    "\n",
    "        print(f\"Saving model {iteration}\")\n",
    "        dnn_model.save(f\"../models/EfficientNet_13epochs_aug_{aug_str}_{iteration}.h5\")\n",
    "        histories.append(deepcopy(history))\n",
    "        accuracies.append(deepcopy(accuracy))\n",
    "        class_accuracies.append(deepcopy(class_accuracy))\n",
    "        conf_mats.append(deepcopy(conf_mat))\n",
    "\n",
    "\n",
    "    with open(f\"results/HISTORY_EfficientNet_13epochs_aug_{aug_str}.pkl\", \"wb\") as f:\n",
    "        pickle.dump(histories, f)\n",
    "\n",
    "    with open(f\"results/ACCURACY_EfficientNet_13epochs_aug_{aug_str}.pkl\", \"wb\") as f:\n",
    "        pickle.dump(accuracies, f)\n",
    "\n",
    "    with open(f\"results/CLASS_ACCURACY_EfficientNet_13epochs_aug_{aug_str}.pkl\", \"wb\") as f:\n",
    "        pickle.dump(class_accuracies, f)\n",
    "\n",
    "    with open(f\"results/CONF_MAT_EfficientNet_13epochs_aug_{aug_str}.pkl\", \"wb\") as f:\n",
    "        pickle.dump(conf_mats, f)"
   ]
  }
 ],
 "metadata": {
  "kernelspec": {
   "display_name": "tensor",
   "language": "python",
   "name": "python3"
  },
  "language_info": {
   "codemirror_mode": {
    "name": "ipython",
    "version": 3
   },
   "file_extension": ".py",
   "mimetype": "text/x-python",
   "name": "python",
   "nbconvert_exporter": "python",
   "pygments_lexer": "ipython3",
   "version": "3.10.14"
  }
 },
 "nbformat": 4,
 "nbformat_minor": 2
}
